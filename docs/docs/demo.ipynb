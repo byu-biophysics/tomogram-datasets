{
 "cells": [
  {
   "cell_type": "code",
   "execution_count": 1,
   "metadata": {},
   "outputs": [],
   "source": [
    "from tomogram_datasets import get_fm_tomogram_set\n",
    "from visualize_voxels import visualize\n",
    "\n",
    "# Load tomograms\n",
    "tomogram_set = get_fm_tomogram_set()\n",
    "train_set = tomogram_set.get_public_tomograms()\n",
    "\n",
    "# Find tomograms with more than four annotation points (motors)\n",
    "tomograms_with_motors = [tomo for tomo in train_set if tomo.annotations is not None]\n",
    "tomograms_with_many_motors = [tomo for tomo in tomograms_with_motors if len(tomo.annotation_points()) > 4]\n",
    "\n",
    "tomogram_to_visualize = tomograms_with_many_motors[-1]\n",
    "motors = tomogram_to_visualize.annotation_points()"
   ]
  },
  {
   "cell_type": "code",
   "execution_count": 2,
   "metadata": {},
   "outputs": [],
   "source": [
    "# One way to get a more exciting visualization\n",
    "visualize(\n",
    "    # TomogramFile.get_data() yields a numpy array. In get_data, set preprocess=False for faster loading but a very poor visualization\n",
    "    tomogram_to_visualize.get_data(), \n",
    "    # Save as lots_of_motors.gif\n",
    "    'lots_of_motors.gif',\n",
    "    # Points to mark in the visualization\n",
    "    marks = motors, \n",
    "    # Plot 150 of the layers in the tomogram, evenly spaced\n",
    "    slices=150,\n",
    "    # Display at 15 frames per second\n",
    "    fps=15,\n",
    "    # Set the title\n",
    "    title=f'{len(motors)} flagellar motors!'\n",
    ")"
   ]
  },
  {
   "cell_type": "code",
   "execution_count": null,
   "metadata": {},
   "outputs": [],
   "source": []
  }
 ],
 "metadata": {
  "kernelspec": {
   "display_name": "k",
   "language": "python",
   "name": "python3"
  },
  "language_info": {
   "codemirror_mode": {
    "name": "ipython",
    "version": 3
   },
   "file_extension": ".py",
   "mimetype": "text/x-python",
   "name": "python",
   "nbconvert_exporter": "python",
   "pygments_lexer": "ipython3",
   "version": "3.9.18"
  }
 },
 "nbformat": 4,
 "nbformat_minor": 2
}
